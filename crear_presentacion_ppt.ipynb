{
  "nbformat": 4,
  "nbformat_minor": 0,
  "metadata": {
    "colab": {
      "provenance": [],
      "authorship_tag": "ABX9TyNzLwz/+5dv4rulgeRpeZ4w",
      "include_colab_link": true
    },
    "kernelspec": {
      "name": "python3",
      "display_name": "Python 3"
    },
    "language_info": {
      "name": "python"
    }
  },
  "cells": [
    {
      "cell_type": "markdown",
      "metadata": {
        "id": "view-in-github",
        "colab_type": "text"
      },
      "source": [
        "<a href=\"https://colab.research.google.com/github/Addriann/Codes/blob/main/crear_presentacion_ppt.ipynb\" target=\"_parent\"><img src=\"https://colab.research.google.com/assets/colab-badge.svg\" alt=\"Open In Colab\"/></a>"
      ]
    },
    {
      "cell_type": "code",
      "execution_count": null,
      "metadata": {
        "colab": {
          "base_uri": "https://localhost:8080/",
          "height": 383
        },
        "id": "g7MwhQW-im6p",
        "outputId": "7827cd51-2257-4dcb-9e4a-bc8711759af3"
      },
      "outputs": [
        {
          "output_type": "error",
          "ename": "ModuleNotFoundError",
          "evalue": "No module named 'ppt'",
          "traceback": [
            "\u001b[0;31m---------------------------------------------------------------------------\u001b[0m",
            "\u001b[0;31mModuleNotFoundError\u001b[0m                       Traceback (most recent call last)",
            "\u001b[0;32m<ipython-input-3-12ca2df69823>\u001b[0m in \u001b[0;36m<cell line: 1>\u001b[0;34m()\u001b[0m\n\u001b[0;32m----> 1\u001b[0;31m \u001b[0;32mimport\u001b[0m \u001b[0mppt\u001b[0m\u001b[0;34m\u001b[0m\u001b[0;34m\u001b[0m\u001b[0m\n\u001b[0m\u001b[1;32m      2\u001b[0m \u001b[0;32mfrom\u001b[0m \u001b[0mpptx\u001b[0m \u001b[0;32mimport\u001b[0m \u001b[0mPresentation\u001b[0m\u001b[0;34m\u001b[0m\u001b[0;34m\u001b[0m\u001b[0m\n\u001b[1;32m      3\u001b[0m \u001b[0;32mfrom\u001b[0m \u001b[0mpptx\u001b[0m\u001b[0;34m.\u001b[0m\u001b[0mutil\u001b[0m \u001b[0;32mimport\u001b[0m \u001b[0mInches\u001b[0m\u001b[0;34m\u001b[0m\u001b[0;34m\u001b[0m\u001b[0m\n\u001b[1;32m      4\u001b[0m \u001b[0;34m\u001b[0m\u001b[0m\n\u001b[1;32m      5\u001b[0m \u001b[0;31m# Create a presentation object\u001b[0m\u001b[0;34m\u001b[0m\u001b[0;34m\u001b[0m\u001b[0m\n",
            "\u001b[0;31mModuleNotFoundError\u001b[0m: No module named 'ppt'",
            "",
            "\u001b[0;31m---------------------------------------------------------------------------\u001b[0;32m\nNOTE: If your import is failing due to a missing package, you can\nmanually install dependencies using either !pip or !apt.\n\nTo view examples of installing some common dependencies, click the\n\"Open Examples\" button below.\n\u001b[0;31m---------------------------------------------------------------------------\u001b[0m\n"
          ],
          "errorDetails": {
            "actions": [
              {
                "action": "open_url",
                "actionText": "Open Examples",
                "url": "/notebooks/snippets/importing_libraries.ipynb"
              }
            ]
          }
        }
      ],
      "source": [
        "from pptx import Presentation\n",
        "from pptx.util import Inches\n",
        "\n",
        "# Create a presentation object\n",
        "prs = Presentation()\n",
        "\n",
        "# Slide layout references\n",
        "title_slide_layout = prs.slide_layouts[0]\n",
        "bullet_slide_layout = prs.slide_layouts[1]\n",
        "\n",
        "# Add title slide\n",
        "slide = prs.slides.add_slide(title_slide_layout)\n",
        "title = slide.shapes.title\n",
        "subtitle = slide.placeholders[1]\n",
        "title.text = \"Presentación de Tesis\"\n",
        "subtitle.text = \"Autor: [Tu Nombre]\\nFecha: [Fecha]\"\n",
        "\n",
        "# Add slide for Introducción\n",
        "slide = prs.slides.add_slide(bullet_slide_layout)\n",
        "shapes = slide.shapes\n",
        "title_shape = shapes.title\n",
        "body_shape = shapes.placeholders[1]\n",
        "title_shape.text = \"Capítulo 1: Introducción\"\n",
        "tf = body_shape.text_frame\n",
        "tf.text = \"Introducción a la presentación de la tesis.\"\n",
        "\n",
        "# Add slide for Antecedentes\n",
        "slide = prs.slides.add_slide(bullet_slide_layout)\n",
        "shapes = slide.shapes\n",
        "title_shape = shapes.title\n",
        "body_shape = shapes.placeholders[1]\n",
        "title_shape.text = \"1.1 Antecedentes\"\n",
        "tf = body_shape.text_frame\n",
        "tf.text = \"Contexto y motivación del estudio.\\nDescripción del problema y su relevancia.\"\n",
        "\n",
        "# Add slide for Objetivos\n",
        "slide = prs.slides.add_slide(bullet_slide_layout)\n",
        "shapes = slide.shapes\n",
        "title_shape = shapes.title\n",
        "body_shape = shapes.placeholders[1]\n",
        "title_shape.text = \"1.2 Objetivos\"\n",
        "tf = body_shape.text_frame\n",
        "tf.text = \"Objetivo general.\\nObjetivos específicos.\"\n",
        "\n",
        "# Add slide for Alcance del Estudio\n",
        "slide = prs.slides.add_slide(bullet_slide_layout)\n",
        "shapes = slide.shapes\n",
        "title_shape = shapes.title\n",
        "body_shape = shapes.placeholders[1]\n",
        "title_shape.text = \"1.3 Alcance del Estudio\"\n",
        "tf = body_shape.text_frame\n",
        "tf.text = \"Delimitaciones del estudio.\\nÁreas cubiertas y no cubiertas.\"\n",
        "\n",
        "# Save the presentation\n",
        "pptx_path = \"/mnt/data/Presentacion_Tesis_Cap1y2.pptx\"\n",
        "prs.save(pptx_path)\n",
        "\n",
        "pptx_path"
      ]
    }
  ]
}