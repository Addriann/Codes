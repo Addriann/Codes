{
  "nbformat": 4,
  "nbformat_minor": 0,
  "metadata": {
    "colab": {
      "provenance": [],
      "authorship_tag": "ABX9TyNpzP0DOIVpWa0rr/O9eNqo",
      "include_colab_link": true
    },
    "kernelspec": {
      "name": "python3",
      "display_name": "Python 3"
    },
    "language_info": {
      "name": "python"
    }
  },
  "cells": [
    {
      "cell_type": "markdown",
      "metadata": {
        "id": "view-in-github",
        "colab_type": "text"
      },
      "source": [
        "<a href=\"https://colab.research.google.com/github/Addriann/Codes/blob/main/Del_Triangulo_a_la_Esfera.ipynb\" target=\"_parent\"><img src=\"https://colab.research.google.com/assets/colab-badge.svg\" alt=\"Open In Colab\"/></a>"
      ]
    },
    {
      "cell_type": "markdown",
      "source": [
        "Este código, aunque aparentemente sencillo, condensa siglos de desarrollo matemático. Demuestra cómo conceptos fundamentales como el Teorema de Pitágoras, la geometría tridimensional, las coordenadas esféricas, la matriz Jacobiana y la integración se combinan para resolver un problema clásico: calcular el volumen de una esfera.\n",
        "\n",
        "1. Los Griegos y el Teorema de Pitágoras (Líneas 11-14):\n",
        "\n",
        "Los antiguos griegos, especialmente Pitágoras y su escuela, sentaron las bases de la geometría. El Teorema de Pitágoras, representado en el código por la ecuación pitagoras_2d, establece la relación fundamental entre los lados de un triángulo rectángulo: la suma de los cuadrados de los catetos es igual al cuadrado de la hipotenusa.\n",
        "\n",
        "2. Extensión a 3D: La Esfera (Líneas 17-19):\n",
        "\n",
        "Con el tiempo, los matemáticos extendieron estas ideas a dimensiones superiores. La ecuación pitagoras_3d en el código representa la ecuación de una esfera, que es esencialmente una generalización del Teorema de Pitágoras a tres dimensiones. En lugar de un triángulo rectángulo, ahora consideramos puntos en el espacio tridimensional cuya distancia al origen es constante (el radio de la esfera).\n",
        "\n",
        "3. Coordenadas Esféricas: Un Nuevo Lenguaje (Líneas 22-29):\n",
        "\n",
        "Para facilitar el trabajo con objetos tridimensionales como la esfera, se desarrollaron sistemas de coordenadas alternativos. Las coordenadas esféricas, definidas en las líneas 24-26 del código, son ideales para describir puntos en el espacio en términos de su distancia al origen (radio) y dos ángulos. Este cambio de perspectiva, análogo a usar un nuevo lenguaje para describir el espacio, permite simplificar muchos cálculos.\n",
        "\n",
        "4. La Matriz Jacobiana: El Puente entre Sistemas (Líneas 32-40):\n",
        "\n",
        "La matriz Jacobiana, calculada en el código (líneas 32-37), actúa como un \"puente\" entre diferentes sistemas de coordenadas. Permite relacionar las derivadas en un sistema con las derivadas en otro. En este caso, la matriz Jacobiana nos dice cómo cambian las coordenadas esféricas al variar las coordenadas cartesianas, y su determinante (J_det) es crucial para el cálculo de integrales en coordenadas esféricas.\n",
        "\n",
        "5. El Volumen de la Esfera: Integración en el Nuevo Lenguaje (Líneas 43-53):\n",
        "\n",
        "Finalmente, usando la integración, una herramienta fundamental del cálculo, podemos calcular el volumen de la esfera. El elemento de volumen dV en coordenadas esféricas se obtiene usando el determinante de la matriz Jacobiana (línea 46). Al integrar este elemento de volumen sobre los límites apropiados (líneas 43-45), que representan la extensión de la esfera en coordenadas esféricas, obtenemos el volumen total, tal como se muestra en la última línea del código."
      ],
      "metadata": {
        "id": "LYQ9l1E4ZSvr"
      }
    },
    {
      "cell_type": "code",
      "execution_count": null,
      "metadata": {
        "colab": {
          "base_uri": "https://localhost:8080/",
          "height": 306
        },
        "id": "-v3cOss7PgNt",
        "outputId": "9ee506b9-ae96-47a6-a2a9-f84f93c799a7"
      },
      "outputs": [
        {
          "output_type": "display_data",
          "data": {
            "text/plain": [
              "<IPython.core.display.Math object>"
            ],
            "text/latex": "$\\displaystyle x^{2} + y^{2} = h^{2}$"
          },
          "metadata": {}
        },
        {
          "output_type": "display_data",
          "data": {
            "text/plain": [
              "<IPython.core.display.Math object>"
            ],
            "text/latex": "$\\displaystyle x^{2} + y^{2} + z^{2} = R^{2}$"
          },
          "metadata": {}
        },
        {
          "output_type": "display_data",
          "data": {
            "text/plain": [
              "<IPython.core.display.Math object>"
            ],
            "text/latex": "$\\displaystyle \\mathtt{\\text{Coordenadas esféricas: }}$"
          },
          "metadata": {}
        },
        {
          "output_type": "display_data",
          "data": {
            "text/plain": [
              "<IPython.core.display.Math object>"
            ],
            "text/latex": "$\\displaystyle x = R \\sin{\\left(\\theta \\right)} \\cos{\\left(\\phi \\right)}$"
          },
          "metadata": {}
        },
        {
          "output_type": "display_data",
          "data": {
            "text/plain": [
              "<IPython.core.display.Math object>"
            ],
            "text/latex": "$\\displaystyle y = R \\sin{\\left(\\phi \\right)} \\sin{\\left(\\theta \\right)}$"
          },
          "metadata": {}
        },
        {
          "output_type": "display_data",
          "data": {
            "text/plain": [
              "<IPython.core.display.Math object>"
            ],
            "text/latex": "$\\displaystyle z = R \\cos{\\left(\\theta \\right)}$"
          },
          "metadata": {}
        },
        {
          "output_type": "display_data",
          "data": {
            "text/plain": [
              "<IPython.core.display.Math object>"
            ],
            "text/latex": "$\\displaystyle \\mathtt{\\text{Matriz Jacobiana: }}\\left[\\begin{matrix}\\sin{\\left(\\theta \\right)} \\cos{\\left(\\phi \\right)} & R \\cos{\\left(\\phi \\right)} \\cos{\\left(\\theta \\right)} & - R \\sin{\\left(\\phi \\right)} \\sin{\\left(\\theta \\right)}\\\\\\sin{\\left(\\phi \\right)} \\sin{\\left(\\theta \\right)} & R \\sin{\\left(\\phi \\right)} \\cos{\\left(\\theta \\right)} & R \\sin{\\left(\\theta \\right)} \\cos{\\left(\\phi \\right)}\\\\\\cos{\\left(\\theta \\right)} & - R \\sin{\\left(\\theta \\right)} & 0\\end{matrix}\\right]$"
          },
          "metadata": {}
        },
        {
          "output_type": "display_data",
          "data": {
            "text/plain": [
              "<IPython.core.display.Math object>"
            ],
            "text/latex": "$\\displaystyle \\mathtt{\\text{Determinante de la matriz Jacobiana: }}R^{2} \\sin{\\left(\\theta \\right)}$"
          },
          "metadata": {}
        },
        {
          "output_type": "display_data",
          "data": {
            "text/plain": [
              "<IPython.core.display.Math object>"
            ],
            "text/latex": "$\\displaystyle \\int_{0}^{r} \\int_{0}^{\\pi} \\int_{0}^{2\\pi} R^{2} \\sin{\\left(\\theta \\right)} \\, d\\phi \\, d\\theta \\, dR$"
          },
          "metadata": {}
        },
        {
          "output_type": "display_data",
          "data": {
            "text/plain": [
              "<IPython.core.display.Math object>"
            ],
            "text/latex": "$\\displaystyle \\mathtt{\\text{Volumen de la esfera: }}\\frac{4 \\pi r^{3}}{3}$"
          },
          "metadata": {}
        }
      ],
      "source": [
        "# Por Adrián Francisco Ramírez (adrian.f.ramirez1@gmail.com)\n",
        "\n",
        "import sympy as sp\n",
        "from sympy.printing.latex import latex\n",
        "from IPython.display import display, Math\n",
        "\n",
        "# Paso 1: Teorema de Pitágoras en 2D\n",
        "x, y, h = sp.symbols('x y h')\n",
        "pitagoras_2d = sp.Eq(x**2 + y**2, h**2)\n",
        "display(Math(latex(pitagoras_2d)))  # Mostrar ecuación renderizada en LaTeX\n",
        "\n",
        "# Paso 2: Extensión a 3D - Esfera\n",
        "z = sp.Symbol('z')\n",
        "pitagoras_3d = sp.Eq(x**2 + y**2 + z**2, R**2)\n",
        "display(Math(latex(pitagoras_3d)))  # Mostrar ecuación renderizada en LaTeX\n",
        "\n",
        "# Paso 3: Cambio a coordenadas esféricas\n",
        "phi, theta, R = sp.symbols('phi theta R')\n",
        "x_sph = R * sp.sin(theta) * sp.cos(phi)\n",
        "y_sph = R * sp.sin(theta) * sp.sin(phi)\n",
        "z_sph = R * sp.cos(theta)\n",
        "display(Math(latex(\"Coordenadas esféricas: \")))\n",
        "display(Math(r\"x = \" + latex(x_sph)))  # Mostrar ecuación renderizada en LaTeX\n",
        "display(Math(r\"y = \" + latex(y_sph)))  # Mostrar ecuación renderizada en LaTeX\n",
        "display(Math(r\"z = \" + latex(z_sph)))  # Mostrar ecuación renderizada en LaTeX\n",
        "\n",
        "# Paso 4: Matriz Jacobiana\n",
        "J = sp.Matrix([\n",
        "    [sp.diff(x_sph, R), sp.diff(x_sph, theta), sp.diff(x_sph, phi)],\n",
        "    [sp.diff(y_sph, R), sp.diff(y_sph, theta), sp.diff(y_sph, phi)],\n",
        "    [sp.diff(z_sph, R), sp.diff(z_sph, theta), sp.diff(z_sph, phi)]\n",
        "])\n",
        "display(Math(latex(\"Matriz Jacobiana: \") + latex(J)))  # Mostrar ecuación renderizada en LaTeX\n",
        "\n",
        "J_det = J.det()\n",
        "display(Math(latex(\"Determinante de la matriz Jacobiana: \") + latex(J_det)))  # Mostrar ecuación renderizada en LaTeX\n",
        "\n",
        "# Paso 5: Integración para obtener el volumen\n",
        "r=1\n",
        "R_lims = (R, 0, r)  # Radio de 0 a r\n",
        "theta_lims = (theta, 0, sp.pi)  # Ángulo polar de 0 a pi\n",
        "phi_lims = (phi, 0, 2*sp.pi)  # Ángulo azimutal de 0 a 2pi\n",
        "\n",
        "# Elemento diferencial de volumen en coordenadas esféricas\n",
        "volumen = sp.integrate(J_det, R_lims, theta_lims, phi_lims)\n",
        "integral_expr = sp.integrate(J_det, (R, 0, r), (theta, 0, sp.pi), (phi, 0, 2*sp.pi))\n",
        "\n",
        "integral_expr_latex = r\"\\int_{0}^{r} \\int_{0}^{\\pi} \\int_{0}^{2\\pi} \" + latex(J_det) + r\" \\, d\\phi \\, d\\theta \\, dR\"\n",
        "display(Math(integral_expr_latex))\n",
        "\n",
        "display(Math(latex(\"Volumen de la esfera: \") + latex(volumen.simplify())))  # Mostrar ecuación renderizada en LaTeX"
      ]
    }
  ]
}