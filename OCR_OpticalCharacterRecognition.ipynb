{
  "nbformat": 4,
  "nbformat_minor": 0,
  "metadata": {
    "colab": {
      "provenance": [],
      "authorship_tag": "ABX9TyOQFY2VtaLVyBkhLIdZwh9C",
      "include_colab_link": true
    },
    "kernelspec": {
      "name": "python3",
      "display_name": "Python 3"
    },
    "language_info": {
      "name": "python"
    }
  },
  "cells": [
    {
      "cell_type": "markdown",
      "metadata": {
        "id": "view-in-github",
        "colab_type": "text"
      },
      "source": [
        "<a href=\"https://colab.research.google.com/github/Addriann/Codes/blob/main/OCR_OpticalCharacterRecognition.ipynb\" target=\"_parent\"><img src=\"https://colab.research.google.com/assets/colab-badge.svg\" alt=\"Open In Colab\"/></a>"
      ]
    },
    {
      "cell_type": "code",
      "source": [
        "!pip install pytesseract\n",
        "!pip install pillow"
      ],
      "metadata": {
        "id": "sw0aqg9Fj6rI"
      },
      "execution_count": null,
      "outputs": []
    },
    {
      "cell_type": "code",
      "execution_count": null,
      "metadata": {
        "id": "rG84rruojVwO"
      },
      "outputs": [],
      "source": [
        "import pytesseract\n",
        "from PIL import Image\n",
        "\n",
        "# Ruta de la imagen de entrada\n",
        "image_path = \"/content/image.png\"\n",
        "\n",
        "# Cargar la imagen\n",
        "image = Image.open(image_path)\n",
        "\n",
        "# Realizar la conversión OCR utilizando Tesseract\n",
        "text = pytesseract.image_to_string(image)\n",
        "\n",
        "# Imprimir el texto resultante\n",
        "print(text)"
      ]
    }
  ]
}